{
 "cells": [
  {
   "attachments": {},
   "cell_type": "markdown",
   "metadata": {},
   "source": [
    "# _Get_ TMDB _movies_ _details_"
   ]
  },
  {
   "cell_type": "code",
   "execution_count": 1,
   "metadata": {},
   "outputs": [],
   "source": [
    "import os\n",
    "from urllib.parse import urljoin\n",
    "\n",
    "import dotenv\n",
    "import pandas as pd\n",
    "import requests\n",
    "\n",
    "from utils import tmdb\n",
    "\n",
    "dotenv.load_dotenv()\n",
    "\n",
    "TMDB_BASE_URL: str = \"https://api.themoviedb.org/3/\"\n",
    "TMDB_REQUEST_HEADER: dict[str, str] = {\"Authorization\": f\"Bearer {os.getenv('TMDB_BEARER_TOKEN')}\"}"
   ]
  },
  {
   "cell_type": "code",
   "execution_count": 2,
   "metadata": {},
   "outputs": [],
   "source": [
    "IDS_ANCINE_TMDB: pd.Series = pd.read_csv(\n",
    "    \"../data/movies-ids-ancine-tmdb.csv\",\n",
    "    index_col=\"id_ancine\",\n",
    "    dtype_backend=\"pyarrow\",\n",
    ").squeeze(\"columns\")"
   ]
  },
  {
   "cell_type": "code",
   "execution_count": 3,
   "metadata": {},
   "outputs": [],
   "source": [
    "details_tmdb: pd.DataFrame = pd.DataFrame(None, index=IDS_ANCINE_TMDB)"
   ]
  },
  {
   "cell_type": "code",
   "execution_count": 4,
   "metadata": {},
   "outputs": [],
   "source": [
    "URL: str = urljoin(TMDB_BASE_URL, \"movie/{}\")\n",
    "\n",
    "with requests.Session() as session:\n",
    "    session.headers.update(TMDB_REQUEST_HEADER)\n",
    "    for index, row in details_tmdb.iterrows():\n",
    "        response: requests.Response = session.get(URL.format(index))\n",
    "        response.raise_for_status()\n",
    "        content: dict = response.json()\n",
    "        details_tmdb.at[index, \"countries\"] = tmdb.extract_movie_countries(content)\n",
    "        details_tmdb.at[index, \"genres\"] = tmdb.extract_movie_genres(content)\n",
    "        details_tmdb.at[index, \"runtime\"] = tmdb.extract_movie_runtime(content)"
   ]
  },
  {
   "cell_type": "code",
   "execution_count": null,
   "metadata": {},
   "outputs": [],
   "source": [
    "URL: str = urljoin(TMDB_BASE_URL, \"movie/{}/credits\")\n",
    "\n",
    "with requests.Session() as session:\n",
    "    session.headers.update(TMDB_REQUEST_HEADER)\n",
    "    for index, row in details_tmdb.iterrows():\n",
    "        response: requests.Response = session.get(URL.format(index))\n",
    "        response.raise_for_status()\n",
    "        content: dict = response.json()\n",
    "        details_tmdb.at[index, \"credits_number\"] = tmdb.extract_movie_credits_number(content)"
   ]
  },
  {
   "cell_type": "code",
   "execution_count": null,
   "metadata": {},
   "outputs": [],
   "source": [
    "details_tmdb: pd.DataFrame = (\n",
    "    details_tmdb.reindex(columns=details_tmdb.columns.sort_values())\n",
    "    .convert_dtypes(dtype_backend=\"pyarrow\")\n",
    "    .dropna(how=\"all\")\n",
    ")\n",
    "\n",
    "details_tmdb.to_csv(\"../data/movies-details-tmdb.csv\")"
   ]
  }
 ],
 "metadata": {
  "kernelspec": {
   "display_name": ".venv",
   "language": "python",
   "name": "python3"
  },
  "language_info": {
   "codemirror_mode": {
    "name": "ipython",
    "version": 3
   },
   "file_extension": ".py",
   "mimetype": "text/x-python",
   "name": "python",
   "nbconvert_exporter": "python",
   "pygments_lexer": "ipython3",
   "version": "3.11.2"
  },
  "orig_nbformat": 4
 },
 "nbformat": 4,
 "nbformat_minor": 2
}
