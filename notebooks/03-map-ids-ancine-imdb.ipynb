{
 "cells": [
  {
   "attachments": {},
   "cell_type": "markdown",
   "metadata": {},
   "source": [
    "# _Map_ ANCINE _and_ IMDB _movies_ _identifiers_\n"
   ]
  },
  {
   "cell_type": "code",
   "execution_count": 1,
   "metadata": {},
   "outputs": [],
   "source": [
    "import os\n",
    "from urllib.parse import urljoin\n",
    "\n",
    "import dotenv\n",
    "import pandas as pd\n",
    "import requests\n",
    "\n",
    "from utils import tmdb\n",
    "\n",
    "dotenv.load_dotenv()\n",
    "\n",
    "TMDB_BASE_URL: str = \"https://api.themoviedb.org/3/\"\n",
    "TMDB_REQUEST_HEADER: dict[str, str] = {\"Authorization\": f\"Bearer {os.getenv('TMDB_BEARER_TOKEN')}\"}"
   ]
  },
  {
   "cell_type": "code",
   "execution_count": 2,
   "metadata": {},
   "outputs": [],
   "source": [
    "RAW_ANCINE_MOVIES: pd.DataFrame = (\n",
    "    pd.read_csv(\n",
    "        \"../data/raw/ancine-movies.csv\",\n",
    "        sep=\";\",\n",
    "        header=1,\n",
    "        names=[\"title\", \"id_ancine\", \"release_date\", \"public\"],\n",
    "        usecols=[1, 2, 6, 11],\n",
    "        nrows=4842,\n",
    "        na_values=[\"Sem CPB\", \"Sem ROE\", \"ND\"],\n",
    "        parse_dates=[\"release_date\"],\n",
    "        dayfirst=True,\n",
    "        thousands=\".\",\n",
    "        decimal=\",\",\n",
    "        dtype_backend=\"pyarrow\",\n",
    "    )\n",
    "    .dropna()\n",
    "    .set_index(\"id_ancine\")\n",
    ")\n",
    "\n",
    "IDS_ANCINE_TMDB: pd.Series = pd.read_csv(\n",
    "    \"../data/movies-ids-ancine-tmdb.csv\",\n",
    "    index_col=\"id_ancine\",\n",
    "    dtype_backend=\"pyarrow\",\n",
    ").squeeze(\"columns\")\n",
    "\n",
    "IDS_ANCINE_IMDB_MANUALLY_MAPPED: pd.Series = pd.read_csv(\n",
    "    \"../data/manually-mapped/movies-ids-ancine-imdb.csv\",\n",
    "    index_col=\"id_ancine\",\n",
    "    dtype_backend=\"pyarrow\",\n",
    ").squeeze(\"columns\")"
   ]
  },
  {
   "cell_type": "code",
   "execution_count": 3,
   "metadata": {},
   "outputs": [],
   "source": [
    "movies_ancine: pd.DataFrame = RAW_ANCINE_MOVIES.copy()\n",
    "movies_ancine: pd.DataFrame = movies_ancine.join(IDS_ANCINE_TMDB)"
   ]
  },
  {
   "cell_type": "code",
   "execution_count": 4,
   "metadata": {},
   "outputs": [],
   "source": [
    "MASK: pd.Series = movies_ancine[\"id_tmdb\"].notna()\n",
    "URL: str = urljoin(TMDB_BASE_URL, \"movie/{}/external_ids\")\n",
    "\n",
    "with requests.Session() as session:\n",
    "    session.headers.update(TMDB_REQUEST_HEADER)\n",
    "    for index, row in movies_ancine[MASK].iterrows():\n",
    "        response: requests.Response = session.get(URL.format(row[\"id_tmdb\"]))\n",
    "        response.raise_for_status()\n",
    "        content: dict = response.json()\n",
    "        movies_ancine.at[index, \"id_imdb\"] = tmdb.extract_movie_imdb_id(content)"
   ]
  },
  {
   "cell_type": "code",
   "execution_count": 5,
   "metadata": {},
   "outputs": [],
   "source": [
    "ids_ancine_imdb: pd.Series = movies_ancine[\"id_imdb\"].copy()\n",
    "\n",
    "ids_ancine_imdb.update(IDS_ANCINE_IMDB_MANUALLY_MAPPED)\n",
    "\n",
    "ids_ancine_imdb.dropna().to_csv(\"../data/movies-ids-ancine-imdb.csv\")"
   ]
  }
 ],
 "metadata": {
  "kernelspec": {
   "display_name": ".venv",
   "language": "python",
   "name": "python3"
  },
  "language_info": {
   "codemirror_mode": {
    "name": "ipython",
    "version": 3
   },
   "file_extension": ".py",
   "mimetype": "text/x-python",
   "name": "python",
   "nbconvert_exporter": "python",
   "pygments_lexer": "ipython3",
   "version": "3.11.2"
  },
  "orig_nbformat": 4
 },
 "nbformat": 4,
 "nbformat_minor": 2
}
