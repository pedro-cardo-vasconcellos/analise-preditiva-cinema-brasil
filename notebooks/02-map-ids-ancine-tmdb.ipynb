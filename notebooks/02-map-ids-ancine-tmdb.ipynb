{
 "cells": [
  {
   "attachments": {},
   "cell_type": "markdown",
   "metadata": {},
   "source": [
    "# _Map_ ANCINE _and_ TMDB _movies_ _identifiers_"
   ]
  },
  {
   "cell_type": "code",
   "execution_count": null,
   "metadata": {},
   "outputs": [],
   "source": [
    "import os\n",
    "from urllib.parse import urljoin\n",
    "\n",
    "import dotenv\n",
    "import pandas as pd\n",
    "import requests\n",
    "\n",
    "import utils\n",
    "from utils import tmdb\n",
    "\n",
    "dotenv.load_dotenv()\n",
    "\n",
    "TMDB_BASE_URL: str = \"https://api.themoviedb.org/3/\"\n",
    "TMDB_REQUEST_HEADER: dict[str, str] = {\"Authorization\": f\"Bearer {os.getenv('TMDB_BEARER_TOKEN')}\"}"
   ]
  },
  {
   "cell_type": "code",
   "execution_count": null,
   "metadata": {},
   "outputs": [],
   "source": [
    "RAW_ANCINE_MOVIES: pd.DataFrame = (\n",
    "    pd.read_csv(\n",
    "        \"../data/raw/ancine-movies.csv\",\n",
    "        sep=\";\",\n",
    "        header=1,\n",
    "        names=[\"title\", \"id_ancine\", \"release_date\", \"public\"],\n",
    "        usecols=[1, 2, 6, 11],\n",
    "        nrows=4842,\n",
    "        na_values=[\"Sem CPB\", \"Sem ROE\", \"ND\"],\n",
    "        parse_dates=[\"release_date\"],\n",
    "        dayfirst=True,\n",
    "        thousands=\".\",\n",
    "        decimal=\",\",\n",
    "        dtype_backend=\"pyarrow\",\n",
    "    )\n",
    "    .dropna()\n",
    "    .set_index(\"id_ancine\")\n",
    ")\n",
    "\n",
    "RAW_ANCINE_DIRECTORS_BRAZIL: pd.Series = pd.read_csv(\n",
    "    \"../data/raw/ancine-directors-brazil.csv\",\n",
    "    sep=r\"\\s{0,};\",\n",
    "    header=0,\n",
    "    names=[\"id_ancine\", \"director\"],\n",
    "    index_col=\"id_ancine\",  # movie identifier\n",
    "    usecols=[0, 2],\n",
    "    engine=\"python\",\n",
    "    encoding=\"mbcs\",\n",
    "    dtype_backend=\"pyarrow\",\n",
    ").squeeze(\"columns\")\n",
    "\n",
    "RAW_ANCINE_DIRECTORS_FOREIGN: pd.Series = pd.read_csv(\n",
    "    \"../data/raw/ancine-directors-foreign.csv\",\n",
    "    sep=\";\",\n",
    "    header=0,\n",
    "    names=[\"id_ancine\", \"director\"],\n",
    "    index_col=\"id_ancine\",  # movie identifier\n",
    "    usecols=[0, 2],\n",
    "    encoding=\"mbcs\",\n",
    "    dtype_backend=\"pyarrow\",\n",
    ").squeeze(\"columns\")\n",
    "\n",
    "IDS_ANCINE_TMDB_MANUALLY_MAPPED: pd.Series = pd.read_csv(\n",
    "    \"../data/manually-mapped/movies-ids-ancine-tmdb.csv\",\n",
    "    index_col=\"id_ancine\",\n",
    "    dtype_backend=\"pyarrow\",\n",
    ").squeeze(\"columns\")"
   ]
  },
  {
   "cell_type": "code",
   "execution_count": null,
   "metadata": {},
   "outputs": [],
   "source": [
    "RAW_ANCINE_DIRECTORS: pd.Series = (\n",
    "    pd.concat(\n",
    "        [\n",
    "            RAW_ANCINE_DIRECTORS_BRAZIL,\n",
    "            RAW_ANCINE_DIRECTORS_FOREIGN,\n",
    "        ]\n",
    "    )\n",
    "    .groupby(\"id_ancine\")\n",
    "    .aggregate(\" \".join)\n",
    ")"
   ]
  },
  {
   "cell_type": "code",
   "execution_count": null,
   "metadata": {},
   "outputs": [],
   "source": [
    "movies_ancine: pd.DataFrame = RAW_ANCINE_MOVIES.copy()\n",
    "movies_ancine: pd.DataFrame = movies_ancine.join(RAW_ANCINE_DIRECTORS)\n",
    "\n",
    "movies_ancine[\"title\"] = movies_ancine[\"title\"].str.replace(r\"\\([0-9]{4}\\)\", \"\", regex=True)\n",
    "movies_ancine[\"title\"] = movies_ancine[\"title\"].apply(utils.sanitize_movie_title)\n",
    "movies_ancine[\"director\"] = movies_ancine[\"director\"].apply(utils.sanitize_director_name)"
   ]
  },
  {
   "cell_type": "code",
   "execution_count": null,
   "metadata": {},
   "outputs": [],
   "source": [
    "URL: str = urljoin(TMDB_BASE_URL, \"search/movie\")\n",
    "\n",
    "with requests.Session() as session:\n",
    "    session.headers.update(TMDB_REQUEST_HEADER)\n",
    "    for index, row in movies_ancine.iterrows():\n",
    "        response: requests.Response = session.get(\n",
    "            URL,\n",
    "            params={\n",
    "                \"query\": row[\"title\"],\n",
    "                \"year\": row[\"release_date\"].year,\n",
    "                \"region\": \"BR\",  # needed to find movies by release year in the specified region\n",
    "            },\n",
    "        )\n",
    "        response.raise_for_status()\n",
    "        content: dict = response.json()\n",
    "        movies_ancine.at[index, \"id_tmdb\"] = tmdb.extract_first_movie_tmdb_id(content)"
   ]
  },
  {
   "cell_type": "code",
   "execution_count": null,
   "metadata": {},
   "outputs": [],
   "source": [
    "MASK: pd.Series = movies_ancine[\"id_tmdb\"].notna()\n",
    "URL: str = urljoin(TMDB_BASE_URL, \"movie/{}/credits\")\n",
    "\n",
    "with requests.Session() as session:\n",
    "    session.headers.update(TMDB_REQUEST_HEADER)\n",
    "    for index, row in movies_ancine[MASK].iterrows():\n",
    "        response: requests.Response = session.get(URL.format(row[\"id_tmdb\"]))\n",
    "        response.raise_for_status()\n",
    "        content: dict = response.json()\n",
    "        movies_ancine.at[index, \"director_tmdb\"] = tmdb.extract_movie_director(content)"
   ]
  },
  {
   "cell_type": "code",
   "execution_count": null,
   "metadata": {},
   "outputs": [],
   "source": [
    "movies_ancine[\"director_tmdb\"] = movies_ancine[\"director_tmdb\"].apply(utils.sanitize_director_name)\n",
    "\n",
    "MASK: pd.Series = movies_ancine[\"director\"].notna() & movies_ancine[\"director_tmdb\"].notna()\n",
    "\n",
    "for index, row in movies_ancine[MASK].iterrows():\n",
    "    movies_ancine.at[index, \"same_director\"] = utils.is_same_director(\n",
    "        row[\"director\"],\n",
    "        row[\"director_tmdb\"],\n",
    "    )\n",
    "\n",
    "movies_ancine[\"id_tmdb\"] = movies_ancine[\"id_tmdb\"].where(movies_ancine[\"same_director\"], None)"
   ]
  },
  {
   "cell_type": "code",
   "execution_count": null,
   "metadata": {},
   "outputs": [],
   "source": [
    "ids_ancine_tmdb: pd.Series = movies_ancine[\"id_tmdb\"].copy()\n",
    "\n",
    "ids_ancine_tmdb.update(IDS_ANCINE_TMDB_MANUALLY_MAPPED)\n",
    "\n",
    "ids_ancine_tmdb.dropna().to_csv(\"../data/movies-ids-ancine-tmdb.csv\")"
   ]
  }
 ],
 "metadata": {
  "kernelspec": {
   "display_name": ".venv",
   "language": "python",
   "name": "python3"
  },
  "language_info": {
   "codemirror_mode": {
    "name": "ipython",
    "version": 3
   },
   "file_extension": ".py",
   "mimetype": "text/x-python",
   "name": "python",
   "nbconvert_exporter": "python",
   "pygments_lexer": "ipython3",
   "version": "3.11.2"
  },
  "orig_nbformat": 4
 },
 "nbformat": 4,
 "nbformat_minor": 2
}
