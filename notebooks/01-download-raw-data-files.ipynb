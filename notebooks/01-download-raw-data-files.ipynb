{
 "cells": [
  {
   "attachments": {},
   "cell_type": "markdown",
   "metadata": {},
   "source": [
    "# _Download_ _raw_ _data_ _files_"
   ]
  },
  {
   "cell_type": "code",
   "execution_count": 1,
   "metadata": {},
   "outputs": [],
   "source": [
    "from pathlib import Path\n",
    "\n",
    "import requests\n",
    "\n",
    "PATH_RAW_DATA: Path = Path(\"../data/raw/\")\n",
    "\n",
    "PATH_RAW_DATA.mkdir(exist_ok=True)\n",
    "\n",
    "FILES: dict[str, str] = {\n",
    "    \"ancine-directors-brazil.csv\": \"https://dados.ancine.gov.br/dados-abertos/DiretoresDeObrasNaoPublicitariasBrasileiras.csv\",\n",
    "    \"ancine-directors-foreign.csv\": \"https://dados.ancine.gov.br/dados-abertos/DiretoresDeObrasNaoPublicitariasEstrangeiras.csv\",\n",
    "    \"ancine-movies.csv\": \"https://www.gov.br/ancine/pt-br/oca/cinema/arquivos.csv/listagem-de-filmes-brasileiros-e-estrangeiros-lancados-2009-a-2021-1.csv\",\n",
    "    \"classind-movies.csv\": \"http://portal.mj.gov.br/ClassificacaoIndicativa/jsps/DadosAbertosForm.do?download=obra\",\n",
    "}"
   ]
  },
  {
   "cell_type": "code",
   "execution_count": 2,
   "metadata": {},
   "outputs": [],
   "source": [
    "for file_name, file_url in FILES.items():\n",
    "    response: requests.Response = requests.get(file_url)\n",
    "    response.raise_for_status()\n",
    "    with open(PATH_RAW_DATA / file_name, \"w+b\") as file:\n",
    "        file.write(response.content)"
   ]
  }
 ],
 "metadata": {
  "kernelspec": {
   "display_name": ".venv",
   "language": "python",
   "name": "python3"
  },
  "language_info": {
   "codemirror_mode": {
    "name": "ipython",
    "version": 3
   },
   "file_extension": ".py",
   "mimetype": "text/x-python",
   "name": "python",
   "nbconvert_exporter": "python",
   "pygments_lexer": "ipython3",
   "version": "3.11.2"
  },
  "orig_nbformat": 4
 },
 "nbformat": 4,
 "nbformat_minor": 2
}
