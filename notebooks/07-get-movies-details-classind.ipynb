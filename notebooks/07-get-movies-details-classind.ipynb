{
 "cells": [
  {
   "attachments": {},
   "cell_type": "markdown",
   "metadata": {},
   "source": [
    "# _Get_ Classind _movies_ _details_\n"
   ]
  },
  {
   "cell_type": "code",
   "execution_count": null,
   "metadata": {},
   "outputs": [],
   "source": [
    "import numpy as np\n",
    "import pandas as pd"
   ]
  },
  {
   "cell_type": "code",
   "execution_count": null,
   "metadata": {},
   "outputs": [],
   "source": [
    "RAW_CLASSIND_MOVIES: pd.DataFrame = pd.read_csv(\n",
    "    \"../data/raw/classind-movies.csv\",\n",
    "    header=None,\n",
    "    names=[\n",
    "        \"id_classind\",\n",
    "        \"title\",\n",
    "        \"director\",\n",
    "        \"category\",\n",
    "        \"market\",\n",
    "        \"rating_intended\",\n",
    "        \"rating_assigned\",\n",
    "    ],\n",
    "    index_col=\"id_classind\",\n",
    "    usecols=[1, 2, 7, 11, 13, 15, 16],\n",
    "    dtype_backend=\"pyarrow\",\n",
    ")\n",
    "\n",
    "IDS_ANCINE_CLASSIND: pd.Series = pd.read_csv(\n",
    "    \"../data/ids-ancine-classind.csv\",\n",
    "    index_col=\"id_ancine\",\n",
    "    dtype_backend=\"pyarrow\",\n",
    ").squeeze(\"columns\")"
   ]
  },
  {
   "cell_type": "code",
   "execution_count": null,
   "metadata": {},
   "outputs": [],
   "source": [
    "classind_details: pd.DataFrame = pd.DataFrame(None, index=IDS_ANCINE_CLASSIND)\n",
    "\n",
    "classind_details: pd.DataFrame = classind_details.join(RAW_CLASSIND_MOVIES)\n",
    "\n",
    "classind_details[\"rating\"] = np.where(\n",
    "    classind_details[\"rating_assigned\"].isna(),\n",
    "    classind_details[\"rating_intended\"],\n",
    "    classind_details[\"rating_assigned\"],\n",
    ")\n",
    "\n",
    "classind_details: pd.DataFrame = classind_details.groupby(\"id_classind\").last()\n",
    "\n",
    "classind_details: pd.DataFrame = classind_details[[\"rating\"]].dropna()"
   ]
  },
  {
   "cell_type": "code",
   "execution_count": null,
   "metadata": {},
   "outputs": [],
   "source": [
    "RATINGS: dict[str, str] = {\n",
    "    \"Exibição em qualquer horário\": \"livre\",\n",
    "    \"Inadequado para menores de 14 anos\": \"14\",\n",
    "    \"Inadequado para menores de 16 anos\": \"16\",\n",
    "    \"Inadequado para menores de 18 anos\": \"18\",\n",
    "    \"livre\": \"livre\",\n",
    "    \"Não recomendada para menores de 12 anos: inadequada para exibição antes das 20 horas\": \"12\",\n",
    "    \"não recomendado para menores de 10 (dez) anos\": \"10\",\n",
    "    \"não recomendado para menores de 12 (doze) anos\": \"12\",\n",
    "    \"não recomendado para menores de 14 (catorze) anos\": \"14\",\n",
    "    \"não recomendado para menores de 16 (dezesseis) anos\": \"16\",\n",
    "    \"não recomendado para menores de 18 (dezoito) anos\": \"18\",\n",
    "}\n",
    "\n",
    "classind_details[\"rating\"] = classind_details[\"rating\"].apply(lambda rating: RATINGS.get(rating))"
   ]
  },
  {
   "cell_type": "code",
   "execution_count": null,
   "metadata": {},
   "outputs": [],
   "source": [
    "classind_details.to_csv(\"../data/movies-details-classind.csv\")"
   ]
  }
 ],
 "metadata": {
  "kernelspec": {
   "display_name": ".venv",
   "language": "python",
   "name": "python3"
  },
  "language_info": {
   "codemirror_mode": {
    "name": "ipython",
    "version": 3
   },
   "file_extension": ".py",
   "mimetype": "text/x-python",
   "name": "python",
   "nbconvert_exporter": "python",
   "pygments_lexer": "ipython3",
   "version": "3.11.2"
  },
  "orig_nbformat": 4
 },
 "nbformat": 4,
 "nbformat_minor": 2
}
