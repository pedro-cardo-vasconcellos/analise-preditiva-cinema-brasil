{
 "cells": [
  {
   "attachments": {},
   "cell_type": "markdown",
   "metadata": {},
   "source": [
    "# _Map_ ANCINE _and_ Classind _movie_ _identifiers_"
   ]
  },
  {
   "cell_type": "code",
   "execution_count": 1,
   "metadata": {},
   "outputs": [],
   "source": [
    "import pandas as pd\n",
    "\n",
    "import utils"
   ]
  },
  {
   "cell_type": "code",
   "execution_count": 2,
   "metadata": {},
   "outputs": [],
   "source": [
    "RAW_ANCINE_MOVIES: pd.DataFrame = (\n",
    "    pd.read_csv(\n",
    "        \"../data/raw/ancine-movies.csv\",\n",
    "        sep=\";\",\n",
    "        header=1,\n",
    "        names=[\"title\", \"id_ancine\", \"release_date\", \"public\"],\n",
    "        usecols=[1, 2, 6, 11],\n",
    "        nrows=4842,\n",
    "        na_values=[\"Sem CPB\", \"Sem ROE\", \"ND\"],\n",
    "        parse_dates=[\"release_date\"],\n",
    "        dayfirst=True,\n",
    "        thousands=\".\",\n",
    "        decimal=\",\",\n",
    "        dtype_backend=\"pyarrow\",\n",
    "    )\n",
    "    .dropna()\n",
    "    .set_index(\"id_ancine\")\n",
    ")\n",
    "\n",
    "RAW_ANCINE_DIRECTORS_BRAZIL: pd.Series = pd.read_csv(\n",
    "    \"../data/raw/ancine-directors-brazil.csv\",\n",
    "    sep=r\"\\s{0,};\",\n",
    "    header=0,\n",
    "    names=[\"id_ancine\", \"director\"],\n",
    "    index_col=\"id_ancine\",  # movie identifier\n",
    "    usecols=[0, 2],\n",
    "    engine=\"python\",\n",
    "    encoding=\"mbcs\",\n",
    "    dtype_backend=\"pyarrow\",\n",
    ").squeeze(\"columns\")\n",
    "\n",
    "RAW_ANCINE_DIRECTORS_FOREIGN: pd.Series = pd.read_csv(\n",
    "    \"../data/raw/ancine-directors-foreign.csv\",\n",
    "    sep=\";\",\n",
    "    header=0,\n",
    "    names=[\"id_ancine\", \"director\"],\n",
    "    index_col=\"id_ancine\",  # movie identifier\n",
    "    usecols=[0, 2],\n",
    "    encoding=\"mbcs\",\n",
    "    dtype_backend=\"pyarrow\",\n",
    ").squeeze(\"columns\")\n",
    "\n",
    "RAW_CLASSIND_MOVIES: pd.DataFrame = pd.read_csv(\n",
    "    \"../data/raw/classind-movies.csv\",\n",
    "    header=None,\n",
    "    names=[\n",
    "        \"id_classind\",\n",
    "        \"title\",\n",
    "        \"director\",\n",
    "        \"category\",\n",
    "        \"market\",\n",
    "        \"rating_intended\",\n",
    "        \"rating_assigned\",\n",
    "    ],\n",
    "    index_col=\"id_classind\",\n",
    "    usecols=[1, 2, 7, 11, 13, 15, 16],\n",
    "    dtype_backend=\"pyarrow\",\n",
    ")\n",
    "\n",
    "IDS_ANCINE_CLASSIND_MANUALLY_MAPPED: pd.Series = pd.read_csv(\n",
    "    \"../data/manually-mapped/movies-ids-ancine-classind.csv\",\n",
    "    index_col=\"id_ancine\",\n",
    "    dtype_backend=\"pyarrow\",\n",
    ").squeeze(\"columns\")"
   ]
  },
  {
   "cell_type": "code",
   "execution_count": 3,
   "metadata": {},
   "outputs": [],
   "source": [
    "RAW_ANCINE_DIRECTORS: pd.Series = (\n",
    "    pd.concat(\n",
    "        [\n",
    "            RAW_ANCINE_DIRECTORS_BRAZIL,\n",
    "            RAW_ANCINE_DIRECTORS_FOREIGN,\n",
    "        ]\n",
    "    )\n",
    "    .groupby(\"id_ancine\")\n",
    "    .aggregate(\" \".join)  # aggregating directors of the same movie\n",
    ")"
   ]
  },
  {
   "cell_type": "code",
   "execution_count": null,
   "metadata": {},
   "outputs": [],
   "source": [
    "movies_ancine: pd.DataFrame = RAW_ANCINE_MOVIES.copy()\n",
    "movies_ancine: pd.DataFrame = movies_ancine.join(RAW_ANCINE_DIRECTORS)\n",
    "\n",
    "movies_ancine[\"title\"] = movies_ancine[\"title\"].str.replace(r\"\\([0-9]{4}\\)\", \"\", regex=True)\n",
    "movies_ancine[\"title\"] = movies_ancine[\"title\"].apply(utils.sanitize_movie_title)\n",
    "movies_ancine[\"director\"] = movies_ancine[\"director\"].apply(utils.sanitize_director_name)"
   ]
  },
  {
   "cell_type": "code",
   "execution_count": null,
   "metadata": {},
   "outputs": [],
   "source": [
    "CATEGORIES: list[str] = [\n",
    "    \"Curta Metragem\",\n",
    "    \"Documentário\",\n",
    "    \"Filme\",\n",
    "    \"Longa Metragem e Trailer\",\n",
    "    \"Longa Metragem\",\n",
    "    \"Média Metragem\",\n",
    "]\n",
    "\n",
    "MARKETS: list[str] = [\n",
    "    \"Cinema\",\n",
    "    \"Mostra/Festival\",\n",
    "]\n",
    "\n",
    "movies_classind: pd.DataFrame = RAW_CLASSIND_MOVIES.reset_index().copy()\n",
    "\n",
    "movies_classind[\"category\"] = movies_classind[\"category\"].str.strip()\n",
    "movies_classind[\"director\"] = movies_classind[\"director\"].apply(utils.sanitize_director_name)\n",
    "movies_classind[\"market\"] = movies_classind[\"market\"].str.strip()\n",
    "movies_classind[\"title\"] = movies_classind[\"title\"].apply(utils.sanitize_movie_title)\n",
    "\n",
    "movies_classind: pd.DataFrame = (\n",
    "    movies_classind.dropna(subset=[\"title\", \"director\", \"category\", \"market\"])\n",
    "    .query(\"category in @CATEGORIES and market in @MARKETS\")\n",
    "    .drop_duplicates(subset=\"id_classind\")\n",
    "    .merge(movies_ancine.reset_index(), on=\"title\", suffixes=[\"_classind\", \"_ancine\"])\n",
    ")"
   ]
  },
  {
   "cell_type": "code",
   "execution_count": null,
   "metadata": {},
   "outputs": [],
   "source": [
    "mask: pd.Series = (\n",
    "    movies_classind[\"director_classind\"].notna() & movies_classind[\"director_ancine\"].notna()\n",
    ")\n",
    "\n",
    "for index, row in movies_classind[mask].iterrows():\n",
    "    movies_classind.loc[index, \"same_director\"] = utils.is_same_director(\n",
    "        row[\"director_classind\"],\n",
    "        row[\"director_ancine\"],\n",
    "    )\n",
    "\n",
    "ancine_movies: pd.DataFrame = movies_ancine.join(\n",
    "    movies_classind.loc[movies_classind[\"same_director\"], [\"id_ancine\", \"id_classind\"]]\n",
    "    .drop_duplicates(subset=\"id_ancine\")\n",
    "    .set_index(\"id_ancine\")\n",
    ")"
   ]
  },
  {
   "cell_type": "code",
   "execution_count": null,
   "metadata": {},
   "outputs": [],
   "source": [
    "ids_ancine_classind: pd.Series = ancine_movies[\"id_classind\"].copy()\n",
    "\n",
    "ids_ancine_classind.update(IDS_ANCINE_CLASSIND_MANUALLY_MAPPED)\n",
    "\n",
    "ids_ancine_classind.dropna().to_csv(\"../data/movies-ids-ancine-classind.csv\")"
   ]
  }
 ],
 "metadata": {
  "kernelspec": {
   "display_name": ".venv",
   "language": "python",
   "name": "python3"
  },
  "language_info": {
   "codemirror_mode": {
    "name": "ipython",
    "version": 3
   },
   "file_extension": ".py",
   "mimetype": "text/x-python",
   "name": "python",
   "nbconvert_exporter": "python",
   "pygments_lexer": "ipython3",
   "version": "3.11.2"
  },
  "orig_nbformat": 4
 },
 "nbformat": 4,
 "nbformat_minor": 2
}
