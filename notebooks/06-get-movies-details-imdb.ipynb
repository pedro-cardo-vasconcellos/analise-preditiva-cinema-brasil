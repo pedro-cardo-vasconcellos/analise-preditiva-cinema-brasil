{
 "cells": [
  {
   "attachments": {},
   "cell_type": "markdown",
   "metadata": {},
   "source": [
    "# _Get_ IMDB _movies_ _details_"
   ]
  },
  {
   "cell_type": "code",
   "execution_count": null,
   "metadata": {},
   "outputs": [],
   "source": [
    "import os\n",
    "from urllib.parse import urljoin\n",
    "\n",
    "import dotenv\n",
    "import pandas as pd\n",
    "import requests\n",
    "\n",
    "from utils import imdb\n",
    "\n",
    "dotenv.load_dotenv()\n",
    "\n",
    "IMDB_BASE_URL: str = \"https://www.imdb.com\"\n",
    "IMDB_REQUEST_HEADER: dict[str, str] = {}"
   ]
  }
 ],
 "metadata": {
  "kernelspec": {
   "display_name": ".venv",
   "language": "python",
   "name": "python3"
  },
  "language_info": {
   "name": "python",
   "version": "3.11.2"
  },
  "orig_nbformat": 4
 },
 "nbformat": 4,
 "nbformat_minor": 2
}
